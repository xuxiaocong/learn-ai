{
 "cells": [
  {
   "cell_type": "markdown",
   "metadata": {},
   "source": [
    "# 第一章 机器学习概览\n",
    "\n",
    "* 原书代码地址： [01_the_machine_learning_landscape.ipynb](https://github.com/ageron/handson-ml2/blob/master/01_the_machine_learning_landscape.ipynb)\n",
    "* 本章地址：[Gitee](https://gitee.com/XuXiaoCong/learn-ai/blob/master/book-handson-ml2/01_the_machine_learning_landscape/01_the_machine_learning_landscape.ipynb) / [Github](https://github.com/xuxiaocong/learn-ai/blob/master/book-handson-ml2/01_the_machine_learning_landscape/01_the_machine_learning_landscape.ipynb)"
   ]
  },
  {
   "cell_type": "markdown",
   "metadata": {},
   "source": [
    "## 1.1 什么是机器学习\n",
    "\n",
    "机器学习是一门通过编程让计算机从数据中进行学习的学科（和艺术）。\n",
    "\n",
    "* 举例\n",
    "\n",
    "抖音、快手等短视频软件，通过用户点赞、收藏、停留时间等数据，学习用户喜好，最终让用户沉迷刷视频无法自拔。\n",
    "\n",
    "* 反例\n",
    "\n",
    "下载维基百科到电脑上，虽然电脑有很多数据，但是机器并不会因此学会处理什么事情。"
   ]
  },
  {
   "cell_type": "markdown",
   "metadata": {},
   "source": [
    "## 1.2 为什么使用机器学习\n",
    "\n",
    "使用\"识别标题党\"举例\n",
    "\n",
    "* 传统编程\n",
    "\n",
    "当你要编写一个识别标题党的程序时，通过穷举法，把例如\"震惊!\"、\"不转不是和谐人\"等等短语来判断。一段时间后标题党有出现了新的短语，如\"XX排第三，第一名竟然是他/她\"等等，此时需要继续增加短语来判断。\n",
    "\n",
    "* 机器学习\n",
    "\n",
    "不需要硬编码。通过收集标题，标记出哪些属于标题党，哪些不属于标题党。基于机器学习的程序通过学习后，自动判断新的标题是否\"标题党\"。\n",
    "\n",
    "* 疑问：当新的词汇出现，不都有工作量吗？\n",
    "\n",
    "确实都需要工作量，传统编程需要修改程序，或者往枚举库里添加新短语；机器学习需要重新收集标题和对应的标签。但是当机器学习配上自动化就真香了，例如在文章中加上\"赞\"/\"踩\"的功能，这样通过用户的点击就能不断自我学习。总得来说，就是工作量是用户帮我们做了。\n",
    "\n",
    "* 总结，机器学习适用于：\n",
    "\n",
    "1. 有解决方案，但是机器学习可以简化代码\n",
    "2. 传统方法难以解决的辅助问题\n",
    "3. 需要适应新数据\n",
    "4. 洞察复杂问题和大量数据"
   ]
  },
  {
   "cell_type": "markdown",
   "metadata": {},
   "source": [
    "## 1.3 机器学习的应用示例\n",
    "\n",
    "* 车牌识别 - 图像分类、语义分割，使用卷积神经网络(CNN)\n",
    "* 自动分类新闻 - 自然语言处理(NLP)，使用循环神经网络(RNN)、CNN或者Transformer\n",
    "* 购物推荐 - 推荐系统，聚类\n",
    "* 语音助手 - 语音识别，要求能处理音频采样。一般使用RNN，CNN或者Transformer\n",
    "* 游戏机器人 - AlphaGo下围棋"
   ]
  },
  {
   "cell_type": "markdown",
   "metadata": {},
   "source": [
    "## 1.4 机器学习系统的类型\n",
    "\n",
    "* 是否人类监督下训练\n",
    "    * 有监督学习\n",
    "    * 无监督学习\n",
    "    * 半监督学习\n",
    "    * 强化学习\n",
    "* 是否增量学习\n",
    "    * 在线学习\n",
    "    * 批量学习\n",
    "* 泛化方法\n",
    "    * 基于实例的学习\n",
    "    * 基于模型的学习"
   ]
  },
  {
   "cell_type": "markdown",
   "metadata": {},
   "source": [
    "### 1.4.1 有监督学习和无监督学习"
   ]
  },
  {
   "cell_type": "markdown",
   "metadata": {},
   "source": [
    "#### 有监督学习\n",
    "\n",
    "在有监督学习中，提供给算法的包含所需解决方案的训练集成为标签。简单来说，标签就是提供给算法的标准答案。\n",
    "\n",
    "分类任务是一个经典的有监督学习任务。垃圾邮件过滤器是很好的示例，通过大量电子邮件和所属分类(垃圾邮件还是常规邮件)进行训练，然后学习如何对新邮件进行分类。\n",
    "\n",
    "另一个经典的任务是通过给定一组成为预测器的特征(里程、使用年限、品牌等)来预测一个目标值（二手车价格）。这种类型的任务成为回归。"
   ]
  },
  {
   "cell_type": "markdown",
   "metadata": {},
   "source": [
    "#### 无监督学习\n",
    "\n",
    "无监督学习的训练数据都是未经标记的。就是没有提供标准答案的情况下进行训练。\n",
    "\n",
    "* 聚类\n",
    "\n",
    "例如当你走进公园，看到很多植物，你可以分出哪些植物是同个种类，但就是叫不出名字。这时就可以通过聚类算法来检测相似的植物分组。\n",
    "\n",
    "* 异常检测\n",
    "\n",
    "比如下图，找出和其他个体都不一样的物体。\n",
    "\n",
    "![diff](imgs/diff.jpeg)"
   ]
  },
  {
   "cell_type": "markdown",
   "metadata": {},
   "source": [
    "#### 半监督学习\n",
    "\n",
    "通常给数据做标记是非常耗时和昂贵的，你往往会有很多未标记的数据和一小部分已标记的数据。有些算法可以处理部分已标记的数据。这成为半监督学习。\n",
    "\n",
    "大部分半监督学习是无监督算法和有监督算法像结合。例如，上面逛公园的例子，你能分出哪些植物属于一类，那么你每种拍一张，发到网上问小亮老师，得到回答植物名称后，你就为所有同类做上标记。你就能按有监督学习进行训练了。\n",
    "\n",
    "![park](imgs/park.jpg)"
   ]
  },
  {
   "cell_type": "markdown",
   "metadata": {},
   "source": [
    "#### 强化学习\n",
    "\n",
    "强化学习能够观察环境，做出选择，执行动作，并获得回报。\n",
    "\n",
    "比如AlphaGo在围棋比赛中击败世界冠军。通过分析数百万场比赛，然后自己跟自己下棋，学到了制胜策略。"
   ]
  },
  {
   "cell_type": "markdown",
   "metadata": {},
   "source": [
    "### 1.4.2 批量学习和在线学习"
   ]
  },
  {
   "cell_type": "markdown",
   "metadata": {},
   "source": [
    "#### 批量学习\n",
    "\n",
    "也称为全量学习，每次都需要使用完整数据集进行训练。当数据更新或增加时，需要删除旧的学习结果，从头开始训练。需要花费大量的时间和计算资源，面对海量数据的时候，甚至做不到全量学习。"
   ]
  },
  {
   "cell_type": "markdown",
   "metadata": {},
   "source": [
    "#### 在线学习\n",
    "\n",
    "也称为增量学习，可以分批次给系统提供训练数据，逐步积累学习成果。当数据更新或增加时，在旧的学习结果上继续训练。如果资源有限，在线学习是很好的选择。\n",
    "\n",
    "核外学习可以处理无法容纳在计算机主内存中的大量数据。核外学习算法将数据分成小批量，并使用在线学习技术从这些小批量数据中学习。"
   ]
  },
  {
   "cell_type": "markdown",
   "metadata": {},
   "source": [
    "### 1.4.3 基于实例的学习和基于模型的学习\n",
    "\n",
    "泛化就是预测的意思。大多数机器学习任务是要做出预测。"
   ]
  },
  {
   "cell_type": "markdown",
   "metadata": {},
   "source": [
    "#### 基于实例的学习\n",
    "\n",
    "根据相似度度量来比较新的实例和已经学习的示例，从而泛化新实例。\n",
    "\n",
    "比如下图中的动物，你可能不知道这是一只约克夏，但不妨碍你把它归类为狗而不是猫，因为它长得像一只狗而不像一只猫。\n",
    "\n",
    "\"长得像/不像\"就是根据相似度，对比以前看过的猫和狗，从而做出预测（泛化）。\n",
    "\n",
    "![dog](imgs/dog.png)"
   ]
  },
  {
   "cell_type": "markdown",
   "metadata": {},
   "source": [
    "#### 基于模型的学习\n",
    "\n",
    "构建实例集的模型，使用该模型进行预测。\n",
    "\n",
    "你可以根据品牌(宝马/大众)、生产年限(1年前/10年前)等指标来判断一辆二手车的价值。"
   ]
  },
  {
   "cell_type": "markdown",
   "metadata": {},
   "source": [
    "## 1.5 机器学习的主要调整"
   ]
  },
  {
   "cell_type": "markdown",
   "metadata": {},
   "source": [
    "### 1.5.1 训练数据的数量不足"
   ]
  },
  {
   "cell_type": "markdown",
   "metadata": {},
   "source": [
    "### 1.5.2 训练数据不具代表性"
   ]
  },
  {
   "cell_type": "markdown",
   "metadata": {},
   "source": [
    "### 1.5.3 低质量数据"
   ]
  },
  {
   "cell_type": "markdown",
   "metadata": {},
   "source": [
    "### 1.5.4 无关特征"
   ]
  },
  {
   "cell_type": "markdown",
   "metadata": {},
   "source": [
    "### 1.5.5 过拟合训练数据"
   ]
  },
  {
   "cell_type": "markdown",
   "metadata": {},
   "source": [
    "### 1.5.6欠拟合训练数据"
   ]
  },
  {
   "cell_type": "markdown",
   "metadata": {},
   "source": [
    "### 1.5.7 退后一步"
   ]
  },
  {
   "cell_type": "markdown",
   "metadata": {},
   "source": [
    "## 1.6 测试和验证"
   ]
  },
  {
   "cell_type": "markdown",
   "metadata": {},
   "source": [
    "### 1.6.1 超参数调整和模型选择"
   ]
  },
  {
   "cell_type": "markdown",
   "metadata": {},
   "source": [
    "### 1.6.2 数据不匹配"
   ]
  }
 ],
 "metadata": {
  "language_info": {
   "name": "python"
  },
  "orig_nbformat": 4
 },
 "nbformat": 4,
 "nbformat_minor": 2
}
